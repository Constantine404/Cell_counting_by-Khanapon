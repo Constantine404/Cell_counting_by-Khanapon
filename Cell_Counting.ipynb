{
 "cells": [
  {
   "cell_type": "code",
   "execution_count": 27,
   "metadata": {},
   "outputs": [
    {
     "name": "stdout",
     "output_type": "stream",
     "text": [
      "จำนวนเซลล์ที่ตรวจพบ: 129\n"
     ]
    },
    {
     "data": {
      "text/plain": [
       "True"
      ]
     },
     "execution_count": 27,
     "metadata": {},
     "output_type": "execute_result"
    }
   ],
   "source": [
    "import cv2\n",
    "import numpy as np\n",
    "\n",
    "# โหลดภาพ\n",
    "image_path = \"bloodcell.jpg\"\n",
    "image = cv2.imread(image_path)\n",
    "if image is None:\n",
    "    print(\"ไม่สามารถโหลดภาพได้ กรุณาตรวจสอบที่อยู่ไฟล์\")\n",
    "    exit()\n",
    "\n",
    "# แปลงเป็นภาพ grayscale\n",
    "gray = cv2.cvtColor(image, cv2.COLOR_BGR2GRAY)\n",
    "\n",
    "# ปรับความสว่างและความคมชัด\n",
    "alpha = 1.5  # ปรับความคมชัด\n",
    "beta = 10    # ปรับความสว่าง\n",
    "adjusted = cv2.convertScaleAbs(gray, alpha=alpha, beta=beta)\n",
    "\n",
    "# ใช้ CLAHE เพื่อปรับปรุง contrast \n",
    "clahe = cv2.createCLAHE(clipLimit=2.0, tileGridSize=(8, 8))\n",
    "enhanced = clahe.apply(adjusted)\n",
    "\n",
    "# ใช้ Gaussian Blur เพื่อลดสัญญาณรบกวน\n",
    "blurred = cv2.GaussianBlur(enhanced, (1, 1), 0)\n",
    "\n",
    "# ทำ threshold เพื่อเน้นเฉพาะจุดสีเข้มตรงกลางเซลล์\n",
    "# ปรับค่า threshold ตามความเข้มของจุดสีเข้มในภาพของคุณ\n",
    "_, binary = cv2.threshold(blurred, 90, 255, cv2.THRESH_BINARY_INV)\n",
    "\n",
    "# ใช้ morphological operations เพื่อกำจัดสัญญาณรบกวนเล็กๆ\n",
    "kernel = np.ones((3,3), np.uint8)\n",
    "opening = cv2.morphologyEx(binary, cv2.MORPH_OPEN, kernel, iterations=1)\n",
    "\n",
    "# หา contours ของจุดสีเข้ม\n",
    "contours, _ = cv2.findContours(opening, cv2.RETR_EXTERNAL, cv2.CHAIN_APPROX_SIMPLE)\n",
    "\n",
    "# กรองเอาเฉพาะ contours ที่มีขนาดเหมาะสม\n",
    "min_area = 1/20  # ขนาดเล็กสุดของจุดที่ถือว่าเป็นเซลล์\n",
    "max_area = 150  # ขนาดใหญ่สุดของจุดที่ถือว่าเป็นเซลล์\n",
    "filtered_contours = []\n",
    "\n",
    "for contour in contours:\n",
    "    area = cv2.contourArea(contour)\n",
    "    if min_area < area < max_area:\n",
    "        filtered_contours.append(contour)\n",
    "\n",
    "# หาจุดศูนย์กลางของแต่ละ contour\n",
    "centroids = []\n",
    "for contour in filtered_contours:\n",
    "    M = cv2.moments(contour)\n",
    "    if M[\"m00\"] > 0:\n",
    "        cX = int(M[\"m10\"] / M[\"m00\"])\n",
    "        cY = int(M[\"m01\"] / M[\"m00\"])\n",
    "        centroids.append((cX, cY))\n",
    "\n",
    "#วาดวงกลมรอบเซลล์และเพิ่มเลขกำกับ\n",
    "result = image.copy()\n",
    "for i, (cX, cY) in enumerate(centroids):\n",
    "    # วาดวงกลมรอบเซลล์\n",
    "    cv2.circle(result, (cX, cY), 15, (0, 255, 0), 2)\n",
    "    # ใส่หมายเลขกำกับ\n",
    "    cv2.putText(result, str(i+1), (cX-10, cY), cv2.FONT_HERSHEY_SIMPLEX, 0.5, (255, 0, 0), 2)\n",
    "\n",
    "# แสดงจำนวนเซลล์ที่ตรวจพบ\n",
    "print(f\"จำนวนเซลล์ที่ตรวจพบ: {len(centroids)}\")\n",
    "\n",
    "# แสดงภาพและบันทึกผลลัพธ์\n",
    "cv2.imshow(\"Original\", image)\n",
    "cv2.imshow(\"Enhanced\", enhanced)\n",
    "cv2.imshow(\"Binary\", opening)\n",
    "cv2.imshow(\"Detected Cells\", result)\n",
    "cv2.waitKey(0)\n",
    "cv2.destroyAllWindows()\n",
    "\n",
    "# บันทึกผลลัพธ์\n",
    "cv2.imwrite(\"detected_cells_result.jpg\", result)"
   ]
  }
 ],
 "metadata": {
  "kernelspec": {
   "display_name": "MACHINE",
   "language": "python",
   "name": "python3"
  },
  "language_info": {
   "codemirror_mode": {
    "name": "ipython",
    "version": 3
   },
   "file_extension": ".py",
   "mimetype": "text/x-python",
   "name": "python",
   "nbconvert_exporter": "python",
   "pygments_lexer": "ipython3",
   "version": "3.13.2"
  }
 },
 "nbformat": 4,
 "nbformat_minor": 2
}
